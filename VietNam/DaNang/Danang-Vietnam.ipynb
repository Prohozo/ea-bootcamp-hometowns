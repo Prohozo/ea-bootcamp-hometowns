{
 "cells": [
  {
   "cell_type": "markdown",
   "id": "2b3fa484-0689-4247-a2c7-bb065767f64f",
   "metadata": {},
   "source": [
    "# Da Nang - Viet Nam"
   ]
  },
  {
   "cell_type": "markdown",
   "id": "607d8cb2-6772-4438-8073-975d8a16f4b7",
   "metadata": {},
   "source": [
    "**Latitude**: 15°15'- 16°40' \n",
    "**Longtitude**: 107°17'- 108°20'"
   ]
  },
  {
   "cell_type": "markdown",
   "id": "5fa7faf5-19a3-42e0-9903-40428b6a1790",
   "metadata": {},
   "source": [
    "<a href='https://vi.wikipedia.org/wiki/%C4%90%C3%A0_N%E1%BA%B5ng'>**Population**: 1.134M</a>"
   ]
  },
  {
   "cell_type": "markdown",
   "id": "64465d17-7404-4ce2-b218-f420853fe7ed",
   "metadata": {},
   "source": [
    "![Golden Bridge in Da Nang](https://banahills.sunworld.vn/wp-content/uploads/2020/02/thiet-ke-an-tuong-cau-vang.png)"
   ]
  },
  {
   "cell_type": "markdown",
   "id": "5f05902d-3f4f-4ff8-a008-70f5cfe86994",
   "metadata": {},
   "source": [
    "This is Golden Bridge in Da Nang. It's pretty sad when seeing whis picture during COVID lockdown :((("
   ]
  }
 ],
 "metadata": {
  "kernelspec": {
   "display_name": "Python 3",
   "language": "python",
   "name": "python3"
  },
  "language_info": {
   "codemirror_mode": {
    "name": "ipython",
    "version": 3
   },
   "file_extension": ".py",
   "mimetype": "text/x-python",
   "name": "python",
   "nbconvert_exporter": "python",
   "pygments_lexer": "ipython3",
   "version": "3.8.5"
  }
 },
 "nbformat": 4,
 "nbformat_minor": 5
}
